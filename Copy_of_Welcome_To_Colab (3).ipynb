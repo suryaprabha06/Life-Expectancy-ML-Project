{
  "cells": [
    {
      "cell_type": "code",
      "execution_count": null,
      "metadata": {
        "id": "EaCspZljJyBy",
        "colab": {
          "base_uri": "https://localhost:8080/"
        },
        "outputId": "ee30af2c-a788-4f25-db59-1da79aa7159f"
      },
      "outputs": [
        {
          "output_type": "stream",
          "name": "stdout",
          "text": [
            "Drive already mounted at /content/drive; to attempt to forcibly remount, call drive.mount(\"/content/drive\", force_remount=True).\n"
          ]
        }
      ],
      "source": [
        "from google.colab import drive\n",
        "drive.mount('/content/drive')"
      ]
    },
    {
      "cell_type": "code",
      "execution_count": null,
      "metadata": {
        "id": "FzZyXGnZVvOK"
      },
      "outputs": [],
      "source": [
        "import os\n",
        "\n",
        "for root, dirs, files in os.walk(\"/content/drive/MyDrive\"):\n",
        "    for file in files:\n",
        "        if file.endswith(\".xlsx\"):\n",
        "            print(os.path.join(root, file))"
      ]
    },
    {
      "cell_type": "code",
      "execution_count": null,
      "metadata": {
        "id": "yRMxcssnGXiC"
      },
      "outputs": [],
      "source": [
        "import pandas as pd\n",
        "import numpy as np\n",
        "import matplotlib.pyplot as plt\n",
        "import plotly.express as px\n",
        "import seaborn as sns\n",
        "from math import ceil"
      ]
    },
    {
      "cell_type": "code",
      "execution_count": null,
      "metadata": {
        "collapsed": true,
        "id": "JTC6mtMy6z6e"
      },
      "outputs": [],
      "source": [
        "#Surya\n",
        "import pandas as pd\n",
        "df = pd.read_csv('/content/drive/MyDrive/ML_Project_Data/Life Expectancy Data.csv')\n",
        "df.head()"
      ]
    },
    {
      "cell_type": "code",
      "execution_count": null,
      "metadata": {
        "id": "ha18PzzfBE2G"
      },
      "outputs": [],
      "source": [
        "df.shape"
      ]
    },
    {
      "cell_type": "code",
      "execution_count": null,
      "metadata": {
        "collapsed": true,
        "id": "03M1_UyJ_A9L"
      },
      "outputs": [],
      "source": [
        "df.info()"
      ]
    },
    {
      "cell_type": "code",
      "execution_count": null,
      "metadata": {
        "id": "VnPZI6knCZta"
      },
      "outputs": [],
      "source": [
        "df.columns = df.columns.str.strip()\n",
        "df.columns = df.columns.str.replace(' ', '_')\n",
        "print(\"Original columns:\", df.columns.tolist())\n",
        "\n",
        "'''# Fixed column mapping - corrected the missing quote and mapping direction\n",
        "column_mapping = {\n",
        "    'under-five_deaths': 'under_five_deaths',  # Fixed: added missing quote\n",
        "    'HIV/AIDS': 'HIV_AIDS',\n",
        "    'thinness__1-19_years': 'thinness_1_19_years',\n",
        "    'thinness_5-9_years': 'thinness_5_9_years'\n",
        "}\n",
        "\n",
        "# Rename columns\n",
        "df = df.rename(columns=column_mapping)\n",
        "print(\"Fixed columns:\", df.columns.tolist())'''"
      ]
    },
    {
      "cell_type": "markdown",
      "metadata": {
        "id": "g2oYyS-yIU4F"
      },
      "source": [
        "kartik"
      ]
    },
    {
      "cell_type": "code",
      "execution_count": null,
      "metadata": {
        "collapsed": true,
        "id": "cyB3BquJCp3B"
      },
      "outputs": [],
      "source": [
        "#kartik\n",
        "#summary statistics\n",
        "df.info()  #how many column has non-null, null values and int,float and object datatype\n",
        "df.describe()  #statistical characters"
      ]
    },
    {
      "cell_type": "code",
      "execution_count": null,
      "metadata": {
        "collapsed": true,
        "id": "1w3ZPsNdDA4E"
      },
      "outputs": [],
      "source": [
        "#data cleaning\n",
        "##handling missing values\n",
        "df.isnull().sum()  #checking the null values"
      ]
    },
    {
      "cell_type": "code",
      "execution_count": null,
      "metadata": {
        "collapsed": true,
        "id": "ROD-xqSqFML1"
      },
      "outputs": [],
      "source": [
        "#heatmap for the null values\n",
        "plt.figure(figsize=(10, 6))\n",
        "sns.heatmap(df.isnull(), cbar=False, cmap='viridis')  #cbar and cmap for better visualization\n",
        "plt.title(\"Missing Values Heatmap\")"
      ]
    },
    {
      "cell_type": "code",
      "execution_count": null,
      "metadata": {
        "collapsed": true,
        "id": "RAY9MiDoFTGm"
      },
      "outputs": [],
      "source": [
        "#checking the skewness\n",
        "#histplots of skewness of the columns\n",
        "num_cols = df.select_dtypes(include='number').columns.tolist()  #selecting only the numeric dtype into a list\n",
        "\n",
        "n_cols = 3  # selecting the no. of columns and no. of rows (using ceil function always increase one values)\n",
        "from math import ceil\n",
        "n_rows = ceil(len(num_cols) / n_cols)  # ceiling division\n",
        "\n",
        "fig, axes = plt.subplots(n_rows, n_cols, figsize=(16, 4 * n_rows))\n",
        "axes = axes.flatten()  # flatten 2D axes to 1D list for easy looping\n",
        "\n",
        "for idx, col in enumerate(num_cols):  #enumerate gives index ad the item both at the same time\n",
        "    sns.histplot(df[col], kde=True, ax=axes[idx])\n",
        "    axes[idx].set_title(f'Histogram of {col}')\n",
        "\n",
        "for j in range(idx + 1, len(axes)):  # Remove unused subplots\n",
        "    fig.delaxes(axes[j])  # Clean up empty axes\n",
        "\n",
        "plt.tight_layout()\n",
        "plt.show()\n"
      ]
    },
    {
      "cell_type": "code",
      "execution_count": null,
      "metadata": {
        "collapsed": true,
        "id": "pDSSw6wNF8sV"
      },
      "outputs": [],
      "source": [
        "#mathematically checking the skewness of the columns\n",
        "num_cols = df.select_dtypes(include='number').columns.tolist()\n",
        "for i in num_cols:\n",
        "    print(f\"{i} skewness: {df[i].skew()}\")"
      ]
    },
    {
      "cell_type": "code",
      "execution_count": null,
      "metadata": {
        "id": "FTbDt8VbF-GW"
      },
      "outputs": [],
      "source": [
        "#checking the hightly skewed columns\n",
        "highly_skewed = []\n",
        "\n",
        "for col in num_cols:\n",
        "    skew_val = df[col].skew()\n",
        "    if skew_val > 1 or skew_val < -1:\n",
        "        highly_skewed.append(col)\n",
        "\n",
        "print(\"Highly skewed columns:\", highly_skewed)\n"
      ]
    },
    {
      "cell_type": "code",
      "execution_count": null,
      "metadata": {
        "collapsed": true,
        "id": "Q9fDL0JnGAlV"
      },
      "outputs": [],
      "source": [
        "# handling missing values\n",
        "#imparting the missing values of highly skewed columns with median\n",
        "#imparting the missing values of normal skewed columns with mode\n",
        "\n",
        "for col in num_cols:\n",
        "    if df[col].isnull().sum() > 0:  # Only if there are missing values\n",
        "        skewness = df[col].skew()\n",
        "        if -1 < skewness < 1:\n",
        "            df[col].fillna(df[col].mean(), inplace=True)\n",
        "        else:\n",
        "            df[col].fillna(df[col].median(), inplace=True)\n"
      ]
    },
    {
      "cell_type": "code",
      "execution_count": null,
      "metadata": {
        "collapsed": true,
        "id": "PPsCld32GIPF"
      },
      "outputs": [],
      "source": [
        "# now checking the missing values\n",
        "df.isnull().sum()"
      ]
    },
    {
      "cell_type": "code",
      "execution_count": null,
      "metadata": {
        "collapsed": true,
        "id": "d6xdpqvvGN3u"
      },
      "outputs": [],
      "source": [
        "#detecting outliers using boxplots\n",
        "plt.figure(figsize=(20, 6))\n",
        "sns.boxplot(data=df[num_cols])\n",
        "plt.xticks(rotation=45)  # Rotate column names\n",
        "plt.title(\"Boxplots of Numerical Features\")\n",
        "plt.show()"
      ]
    },
    {
      "cell_type": "code",
      "execution_count": null,
      "metadata": {
        "collapsed": true,
        "id": "NBlHvcI9GSR9"
      },
      "outputs": [],
      "source": [
        "#using the IQR methiod to detect and handle the outliers\n",
        "\n",
        "for col in num_cols:\n",
        "    Q1 = df[col].quantile(0.25)   # 25th percentile\n",
        "    Q3 = df[col].quantile(0.75)   # 75th percentile\n",
        "    IQR = Q3 - Q1                 # Interquartile Range\n",
        "\n",
        "lower_bound = Q1 - 1.5 * IQR\n",
        "upper_bound = Q3 + 1.5 * IQR\n",
        "\n",
        "\n",
        "outliers = df[(df[col] < lower_bound) & (df[col] > upper_bound)]\n",
        "\n",
        "#replacing the outliers with the upper_bound and the Lower_bound\n",
        "df[col] = np.where(df[col] > upper_bound, upper_bound,\n",
        "                np.where(df[col] < lower_bound, lower_bound, df[col]))\n",
        "print(df)\n",
        "#outliers are handled"
      ]
    },
    {
      "cell_type": "code",
      "execution_count": null,
      "metadata": {
        "collapsed": true,
        "id": "2-81CkvqGR6s"
      },
      "outputs": [],
      "source": [
        "df.isnull().sum()  #cheking if there is any data missing or not"
      ]
    },
    {
      "cell_type": "markdown",
      "metadata": {
        "id": "7S1bIb1mH89h"
      },
      "source": [
        "Univariate analysis for numerical and categorical values"
      ]
    },
    {
      "cell_type": "code",
      "execution_count": null,
      "metadata": {
        "collapsed": true,
        "id": "Yi4XKVwkGot6"
      },
      "outputs": [],
      "source": [
        "#univariate analysis for the numerical columns\n",
        "plt.figure(figsize=(16,6))\n",
        "df[num_cols].hist()"
      ]
    },
    {
      "cell_type": "code",
      "execution_count": null,
      "metadata": {
        "collapsed": true,
        "id": "kBSX8viqGst-"
      },
      "outputs": [],
      "source": [
        "#univariate analysis for the categorical columns\n",
        "cat_cols = df.select_dtypes(include='object').columns.tolist()\n",
        "cat_cols.remove('Country')\n",
        "for col in cat_cols:\n",
        "    plt.figure(figsize=(8, 4))\n",
        "    df[col].value_counts().plot(kind='bar')\n",
        "    plt.title(f'Value Counts of {col}')\n",
        "    plt.xlabel(col)\n",
        "    plt.ylabel('Count')\n",
        "    plt.show()\n"
      ]
    },
    {
      "cell_type": "markdown",
      "metadata": {
        "id": "up4Q0BG8IYiu"
      },
      "source": [
        "Surya"
      ]
    },
    {
      "cell_type": "markdown",
      "metadata": {
        "id": "dzQV8tqeHvBf"
      },
      "source": [
        "Bivariate analysis"
      ]
    },
    {
      "cell_type": "code",
      "execution_count": null,
      "metadata": {
        "collapsed": true,
        "id": "QKkwk5qlx8lD"
      },
      "outputs": [],
      "source": [
        "# bivariate analysis for the numerical values\n",
        "import seaborn as sns\n",
        "import matplotlib.pyplot as plt\n",
        "\n",
        "\"\"\"# Get a list of all the features you want to plot against Life Expectancy\n",
        "features = df.columns.tolist()\n",
        "# Remove the target variable, 'Year', 'Status' and 'Country' from the list of features\n",
        "features.remove('Life_expectancy')\n",
        "features.remove('Year')\n",
        "features.remove('Status')\n",
        "features.remove('Country')\n",
        "\n",
        "# Get a list of all unique countries\n",
        "countries = df['Country'].unique()\n",
        "\n",
        "# Define the number of columns and rows for the subplots\n",
        "n_cols = 4\n",
        "n_rows = (len(features) // n_cols) + 1\n",
        "\n",
        "# Loop through each country\n",
        "for country in countries:\n",
        "    # Filter the data to only include the current country\n",
        "    country_df = df[df['Country'] == country]\n",
        "\n",
        "    print(f\"\\n--- Plots for {country} ---\")\n",
        "\n",
        "    # Create a new figure and a set of subplots\n",
        "    fig, axes = plt.subplots(n_rows, n_cols, figsize=(20, n_rows * 5))\n",
        "    axes = axes.flatten()\n",
        "\n",
        "    # Loop through each feature and its corresponding axis\n",
        "    for i, feature in enumerate(features):\n",
        "        # Create the scatter plot on the current subplot axis\n",
        "        sns.scatterplot(data=country_df, x=feature, y='Life_expectancy', ax=axes[i])\n",
        "\n",
        "        # Add a title to the subplot\n",
        "        axes[i].set_title(f'Life Expectancy vs {feature}')\n",
        "        axes[i].set_xlabel(feature)\n",
        "        axes[i].set_ylabel('Life_expectancy')\n",
        "\n",
        "    # Remove any empty subplots if the number of features is not a perfect multiple of n_cols\n",
        "    for j in range(i + 1, len(axes)):\n",
        "        fig.delaxes(axes[j])\n",
        "\n",
        "    plt.tight_layout()\n",
        "    plt.show()\"\"\""
      ]
    },
    {
      "cell_type": "markdown",
      "metadata": {
        "id": "AXXwWSoJHy7t"
      },
      "source": [
        "Multivariate Analysis"
      ]
    },
    {
      "cell_type": "code",
      "execution_count": null,
      "metadata": {
        "collapsed": true,
        "id": "F-sw13xyIMVG"
      },
      "outputs": [],
      "source": [
        "#multivariate Analysis - correlation heatmap\n",
        "#Understand how all the numbers are connected\n",
        "import seaborn as sns\n",
        "import matplotlib.pyplot as plt\n",
        "\n",
        "correlation_matrix = df.corr(numeric_only=True)\n",
        "plt.figure(figsize=(15, 10))\n",
        "sns.heatmap(correlation_matrix, annot=True, cmap='Greens', fmt=\".2f\")\n",
        "plt.title('Correlation Matrix of Features')\n",
        "plt.show()"
      ]
    },
    {
      "cell_type": "code",
      "execution_count": null,
      "metadata": {
        "id": "Sho6rKIVilpJ"
      },
      "outputs": [],
      "source": [
        "#kartik"
      ]
    },
    {
      "cell_type": "code",
      "execution_count": null,
      "metadata": {
        "id": "kgX7yOxNa-gG"
      },
      "outputs": [],
      "source": [
        "#X = Features (input variables) → All columns used to predict the target.\n",
        "#y = Target (output variable) → The column you're trying to predict."
      ]
    },
    {
      "cell_type": "code",
      "execution_count": null,
      "metadata": {
        "collapsed": true,
        "id": "xfnklgIza_ow"
      },
      "outputs": [],
      "source": [
        "#converting the values of categorical column into binary values(0/1)\n",
        "df['Status'] = df['Status'].map({'Developing': 0, 'Developed': 1})\n",
        "y = df['Life_expectancy']\n",
        "\n",
        "'''country_dummies = pd.get_dummies(df['Country'], prefix='Country')'''\n",
        "X = df.drop(['Life_expectancy','Country', 'Year'], axis=1)\n",
        "'''df = pd.concat([X, country_dummies], axis=1)'''\n",
        "\n",
        "print(X.columns)\n",
        "print('-----------------------------------------------------------------')\n",
        "print(y.name)"
      ]
    },
    {
      "cell_type": "code",
      "execution_count": null,
      "metadata": {
        "id": "F6j-gTM9e46W"
      },
      "outputs": [],
      "source": [
        "#spliting the data into train and test of X and y\n",
        "from sklearn.model_selection import train_test_split\n",
        "X_train, X_test, y_train, y_test = train_test_split(X, y, test_size=0.2, random_state=42)  #test_size means the amount of data used for testing\n",
        "\n",
        "#selecting the model\n",
        "from sklearn.ensemble import RandomForestRegressor\n",
        "model = RandomForestRegressor(n_estimators=100)\n",
        "\n",
        "#fitting the data to train the model\n",
        "model.fit(X_train, y_train)\n",
        "\n",
        "#predicting\n",
        "y_preds = model.predict(X_test)\n",
        "\n"
      ]
    },
    {
      "cell_type": "code",
      "execution_count": null,
      "metadata": {
        "id": "Nagg-dIKglg3"
      },
      "outputs": [],
      "source": [
        "from sklearn.metrics import mean_squared_error, r2_score\n",
        "rmse = mean_squared_error(y_test, y_preds)\n",
        "r2  = r2_score(y_test, y_preds)\n",
        "print(F\"Root Mean Squared Error: {rmse}\")                      #how far our model's predictions are, on average, from the actual values\n",
        "print(F\"R-squared / Coefficient of Determination: {r2}\"  )     #how much variance in the target variable our model can explain"
      ]
    },
    {
      "cell_type": "code",
      "execution_count": null,
      "metadata": {
        "id": "H3JbnLMCj3zr",
        "collapsed": true
      },
      "outputs": [],
      "source": [
        "plt.figure(figsize=(8,6))\n",
        "plt.scatter(y_test, y_preds, alpha=0.5)  #y_test is the actual value and y_preds is the predicted value\n",
        "plt.xlabel('Actual Life Expectancy')\n",
        "plt.ylabel('Predicted Life Expectancy')\n",
        "plt.title('Actual vs Predicted')\n",
        "plt.plot([y_test.min(), y_test.max()], [y_test.min(), y_test.max()], 'r--')  #actual values diagonal line on the top of the scatter plot\n",
        "plt.show()\n"
      ]
    },
    {
      "cell_type": "code",
      "source": [
        "import joblib\n",
        "\n",
        "# Save the trained model\n",
        "joblib.dump(model, \"life_expectancy_model.pkl\")\n"
      ],
      "metadata": {
        "collapsed": true,
        "id": "3lxWx4M86re3"
      },
      "execution_count": null,
      "outputs": []
    },
    {
      "cell_type": "code",
      "source": [
        "'''from google.colab import files\n",
        "files.download('life_expectancy_model.pkl')'''\n"
      ],
      "metadata": {
        "id": "cWnv7q92_WHt"
      },
      "execution_count": null,
      "outputs": []
    },
    {
      "cell_type": "code",
      "source": [
        "print(X.columns.tolist())\n"
      ],
      "metadata": {
        "id": "jrncCJ5D9E8j"
      },
      "execution_count": null,
      "outputs": []
    },
    {
      "cell_type": "code",
      "source": [
        "import joblib\n",
        "from google.colab import drive\n",
        "drive.mount('/content/drive')\n",
        "\n",
        "import os\n",
        "\n",
        "folder_path = '/content/drive/MyDrive/models'\n",
        "\n",
        "if not os.path.exists(folder_path):\n",
        "    os.makedirs(folder_path)\n",
        "\n",
        "import joblib\n",
        "\n",
        "model_filename = os.path.join(folder_path, 'random_forest_model.joblib')\n",
        "joblib.dump(model, model_filename)\n",
        "print(\"Model saved to\", model_filename)\n"
      ],
      "metadata": {
        "id": "KgvHx1OJzfAF"
      },
      "execution_count": null,
      "outputs": []
    },
    {
      "cell_type": "code",
      "source": [
        "import os\n",
        "print(os.listdir())"
      ],
      "metadata": {
        "id": "AXtYUmyWHNqM"
      },
      "execution_count": null,
      "outputs": []
    },
    {
      "cell_type": "code",
      "source": [
        "'''# Install packages (run only once)\n",
        "!pip install fastapi uvicorn nest-asyncio pyngrok joblib\n",
        "\n",
        "from fastapi import FastAPI\n",
        "from pydantic import BaseModel\n",
        "import joblib\n",
        "import pandas as pd\n",
        "import nest_asyncio\n",
        "from pyngrok import ngrok\n",
        "import uvicorn\n",
        "\n",
        "class LifeExpInput(BaseModel):\n",
        "    Status: int  # 0 or 1\n",
        "    Adult_Mortality: float\n",
        "    infant_deaths: float\n",
        "    Alcohol: float\n",
        "    percentage_expenditure: float\n",
        "    Hepatitis_B: float\n",
        "    Measles: float\n",
        "    BMI: float\n",
        "    under_five_deaths: float\n",
        "    Polio: float\n",
        "    Total_expenditure: float\n",
        "    Diphtheria: float\n",
        "    HIV_AIDS: float\n",
        "    GDP: float\n",
        "    Population: float\n",
        "    thinness_1_19_years: float\n",
        "    thinness_5_9_years: float\n",
        "    Income_composition_of_resources: float\n",
        "    Schooling: float\n",
        "\n",
        "\n",
        "# Load the model from mounted Google Drive path\n",
        "model = joblib.load('/content/drive/MyDrive/models/random_forest_model.joblib')\n",
        "\n",
        "app = FastAPI()\n",
        "\n",
        "@app.post(\"/predict\")\n",
        "def predict(payload: LifeExpInput):\n",
        "    data = pd.DataFrame([payload.dict()])\n",
        "    try:\n",
        "        prediction = model.predict(data)[0]\n",
        "    except Exception as e:\n",
        "        return {\"error\": str(e)}\n",
        "    return {\"predicted_life_expectancy\": float(prediction)}\n",
        "\n",
        "\n",
        "# Setup and run server with ngrok tunnel\n",
        "nest_asyncio.apply()\n",
        "\n",
        "# You can comment out or skip this if it causes errors in Colab\n",
        "# !fuser -k 8000/tcp\n",
        "\n",
        "!ngrok config add-authtoken 30oZ34YR1ZCy0CodqMbt72QxEd1_6mGsuDJqkanZyAWuvxg6C\n",
        "\n",
        "public_url = ngrok.connect(8000)\n",
        "print(\"Public URL:\", public_url)\n",
        "\n",
        "uvicorn.run(app, host='0.0.0.0', port=8000)'''"
      ],
      "metadata": {
        "id": "DZsy0tDiFvY1",
        "collapsed": true
      },
      "execution_count": null,
      "outputs": []
    },
    {
      "cell_type": "code",
      "source": [
        "import pandas as pd\n",
        "\n",
        "# This assumes your DataFrame `df` has been cleaned of missing values and outliers\n",
        "# Convert categorical columns to numerical using one-hot encoding\n",
        "# This will create many new columns for each country and for Status\n",
        "df = pd.get_dummies(df, columns=['Country', 'Status'], drop_first=True)"
      ],
      "metadata": {
        "id": "t1pAD9W2wH85"
      },
      "execution_count": null,
      "outputs": []
    },
    {
      "cell_type": "markdown",
      "source": [
        "Linear Regression"
      ],
      "metadata": {
        "id": "pyrrELdo3ClS"
      }
    },
    {
      "cell_type": "code",
      "source": [
        "print(df.columns)\n"
      ],
      "metadata": {
        "id": "z6zA7GPT2IWU",
        "colab": {
          "base_uri": "https://localhost:8080/"
        },
        "outputId": "3f58dda5-6b11-48d4-833a-dac09a710ac7"
      },
      "execution_count": null,
      "outputs": [
        {
          "metadata": {
            "tags": null
          },
          "name": "stdout",
          "output_type": "stream",
          "text": [
            "Index(['Year', 'Life_expectancy', 'Adult_Mortality', 'infant_deaths',\n",
            "       'Alcohol', 'percentage_expenditure', 'Hepatitis_B', 'Measles', 'BMI',\n",
            "       'under_five_deaths',\n",
            "       ...\n",
            "       'Country_United States of America', 'Country_Uruguay',\n",
            "       'Country_Uzbekistan', 'Country_Vanuatu',\n",
            "       'Country_Venezuela (Bolivarian Republic of)', 'Country_Viet Nam',\n",
            "       'Country_Yemen', 'Country_Zambia', 'Country_Zimbabwe', 'Status_1'],\n",
            "      dtype='object', length=213)\n"
          ]
        }
      ]
    },
    {
      "cell_type": "code",
      "source": [
        "from sklearn.model_selection import train_test_split\n",
        "\n",
        "# Define your features (X) and target (y)\n",
        "X = df.drop('Life_expectancy', axis=1)\n",
        "y = df['Life_expectancy']\n",
        "\n",
        "# Split the data\n",
        "X_train, X_test, y_train, y_test = train_test_split(X, y, test_size=0.2, random_state=42)"
      ],
      "metadata": {
        "id": "qB7kZL6B2S3S"
      },
      "execution_count": null,
      "outputs": []
    },
    {
      "cell_type": "code",
      "source": [
        "from sklearn.linear_model import LinearRegression\n",
        "\n",
        "# Initialize the model\n",
        "model = LinearRegression()\n",
        "\n",
        "# Train the model with the training data\n",
        "model.fit(X_train, y_train)"
      ],
      "metadata": {
        "id": "jb2spfpC2Xqa",
        "colab": {
          "base_uri": "https://localhost:8080/",
          "height": 80
        },
        "outputId": "66efd189-9790-4e08-c9e6-57f0930174e2"
      },
      "execution_count": null,
      "outputs": [
        {
          "output_type": "execute_result",
          "data": {
            "text/plain": [
              "LinearRegression()"
            ],
            "text/html": [
              "<style>#sk-container-id-1 {\n",
              "  /* Definition of color scheme common for light and dark mode */\n",
              "  --sklearn-color-text: #000;\n",
              "  --sklearn-color-text-muted: #666;\n",
              "  --sklearn-color-line: gray;\n",
              "  /* Definition of color scheme for unfitted estimators */\n",
              "  --sklearn-color-unfitted-level-0: #fff5e6;\n",
              "  --sklearn-color-unfitted-level-1: #f6e4d2;\n",
              "  --sklearn-color-unfitted-level-2: #ffe0b3;\n",
              "  --sklearn-color-unfitted-level-3: chocolate;\n",
              "  /* Definition of color scheme for fitted estimators */\n",
              "  --sklearn-color-fitted-level-0: #f0f8ff;\n",
              "  --sklearn-color-fitted-level-1: #d4ebff;\n",
              "  --sklearn-color-fitted-level-2: #b3dbfd;\n",
              "  --sklearn-color-fitted-level-3: cornflowerblue;\n",
              "\n",
              "  /* Specific color for light theme */\n",
              "  --sklearn-color-text-on-default-background: var(--sg-text-color, var(--theme-code-foreground, var(--jp-content-font-color1, black)));\n",
              "  --sklearn-color-background: var(--sg-background-color, var(--theme-background, var(--jp-layout-color0, white)));\n",
              "  --sklearn-color-border-box: var(--sg-text-color, var(--theme-code-foreground, var(--jp-content-font-color1, black)));\n",
              "  --sklearn-color-icon: #696969;\n",
              "\n",
              "  @media (prefers-color-scheme: dark) {\n",
              "    /* Redefinition of color scheme for dark theme */\n",
              "    --sklearn-color-text-on-default-background: var(--sg-text-color, var(--theme-code-foreground, var(--jp-content-font-color1, white)));\n",
              "    --sklearn-color-background: var(--sg-background-color, var(--theme-background, var(--jp-layout-color0, #111)));\n",
              "    --sklearn-color-border-box: var(--sg-text-color, var(--theme-code-foreground, var(--jp-content-font-color1, white)));\n",
              "    --sklearn-color-icon: #878787;\n",
              "  }\n",
              "}\n",
              "\n",
              "#sk-container-id-1 {\n",
              "  color: var(--sklearn-color-text);\n",
              "}\n",
              "\n",
              "#sk-container-id-1 pre {\n",
              "  padding: 0;\n",
              "}\n",
              "\n",
              "#sk-container-id-1 input.sk-hidden--visually {\n",
              "  border: 0;\n",
              "  clip: rect(1px 1px 1px 1px);\n",
              "  clip: rect(1px, 1px, 1px, 1px);\n",
              "  height: 1px;\n",
              "  margin: -1px;\n",
              "  overflow: hidden;\n",
              "  padding: 0;\n",
              "  position: absolute;\n",
              "  width: 1px;\n",
              "}\n",
              "\n",
              "#sk-container-id-1 div.sk-dashed-wrapped {\n",
              "  border: 1px dashed var(--sklearn-color-line);\n",
              "  margin: 0 0.4em 0.5em 0.4em;\n",
              "  box-sizing: border-box;\n",
              "  padding-bottom: 0.4em;\n",
              "  background-color: var(--sklearn-color-background);\n",
              "}\n",
              "\n",
              "#sk-container-id-1 div.sk-container {\n",
              "  /* jupyter's `normalize.less` sets `[hidden] { display: none; }`\n",
              "     but bootstrap.min.css set `[hidden] { display: none !important; }`\n",
              "     so we also need the `!important` here to be able to override the\n",
              "     default hidden behavior on the sphinx rendered scikit-learn.org.\n",
              "     See: https://github.com/scikit-learn/scikit-learn/issues/21755 */\n",
              "  display: inline-block !important;\n",
              "  position: relative;\n",
              "}\n",
              "\n",
              "#sk-container-id-1 div.sk-text-repr-fallback {\n",
              "  display: none;\n",
              "}\n",
              "\n",
              "div.sk-parallel-item,\n",
              "div.sk-serial,\n",
              "div.sk-item {\n",
              "  /* draw centered vertical line to link estimators */\n",
              "  background-image: linear-gradient(var(--sklearn-color-text-on-default-background), var(--sklearn-color-text-on-default-background));\n",
              "  background-size: 2px 100%;\n",
              "  background-repeat: no-repeat;\n",
              "  background-position: center center;\n",
              "}\n",
              "\n",
              "/* Parallel-specific style estimator block */\n",
              "\n",
              "#sk-container-id-1 div.sk-parallel-item::after {\n",
              "  content: \"\";\n",
              "  width: 100%;\n",
              "  border-bottom: 2px solid var(--sklearn-color-text-on-default-background);\n",
              "  flex-grow: 1;\n",
              "}\n",
              "\n",
              "#sk-container-id-1 div.sk-parallel {\n",
              "  display: flex;\n",
              "  align-items: stretch;\n",
              "  justify-content: center;\n",
              "  background-color: var(--sklearn-color-background);\n",
              "  position: relative;\n",
              "}\n",
              "\n",
              "#sk-container-id-1 div.sk-parallel-item {\n",
              "  display: flex;\n",
              "  flex-direction: column;\n",
              "}\n",
              "\n",
              "#sk-container-id-1 div.sk-parallel-item:first-child::after {\n",
              "  align-self: flex-end;\n",
              "  width: 50%;\n",
              "}\n",
              "\n",
              "#sk-container-id-1 div.sk-parallel-item:last-child::after {\n",
              "  align-self: flex-start;\n",
              "  width: 50%;\n",
              "}\n",
              "\n",
              "#sk-container-id-1 div.sk-parallel-item:only-child::after {\n",
              "  width: 0;\n",
              "}\n",
              "\n",
              "/* Serial-specific style estimator block */\n",
              "\n",
              "#sk-container-id-1 div.sk-serial {\n",
              "  display: flex;\n",
              "  flex-direction: column;\n",
              "  align-items: center;\n",
              "  background-color: var(--sklearn-color-background);\n",
              "  padding-right: 1em;\n",
              "  padding-left: 1em;\n",
              "}\n",
              "\n",
              "\n",
              "/* Toggleable style: style used for estimator/Pipeline/ColumnTransformer box that is\n",
              "clickable and can be expanded/collapsed.\n",
              "- Pipeline and ColumnTransformer use this feature and define the default style\n",
              "- Estimators will overwrite some part of the style using the `sk-estimator` class\n",
              "*/\n",
              "\n",
              "/* Pipeline and ColumnTransformer style (default) */\n",
              "\n",
              "#sk-container-id-1 div.sk-toggleable {\n",
              "  /* Default theme specific background. It is overwritten whether we have a\n",
              "  specific estimator or a Pipeline/ColumnTransformer */\n",
              "  background-color: var(--sklearn-color-background);\n",
              "}\n",
              "\n",
              "/* Toggleable label */\n",
              "#sk-container-id-1 label.sk-toggleable__label {\n",
              "  cursor: pointer;\n",
              "  display: flex;\n",
              "  width: 100%;\n",
              "  margin-bottom: 0;\n",
              "  padding: 0.5em;\n",
              "  box-sizing: border-box;\n",
              "  text-align: center;\n",
              "  align-items: start;\n",
              "  justify-content: space-between;\n",
              "  gap: 0.5em;\n",
              "}\n",
              "\n",
              "#sk-container-id-1 label.sk-toggleable__label .caption {\n",
              "  font-size: 0.6rem;\n",
              "  font-weight: lighter;\n",
              "  color: var(--sklearn-color-text-muted);\n",
              "}\n",
              "\n",
              "#sk-container-id-1 label.sk-toggleable__label-arrow:before {\n",
              "  /* Arrow on the left of the label */\n",
              "  content: \"▸\";\n",
              "  float: left;\n",
              "  margin-right: 0.25em;\n",
              "  color: var(--sklearn-color-icon);\n",
              "}\n",
              "\n",
              "#sk-container-id-1 label.sk-toggleable__label-arrow:hover:before {\n",
              "  color: var(--sklearn-color-text);\n",
              "}\n",
              "\n",
              "/* Toggleable content - dropdown */\n",
              "\n",
              "#sk-container-id-1 div.sk-toggleable__content {\n",
              "  max-height: 0;\n",
              "  max-width: 0;\n",
              "  overflow: hidden;\n",
              "  text-align: left;\n",
              "  /* unfitted */\n",
              "  background-color: var(--sklearn-color-unfitted-level-0);\n",
              "}\n",
              "\n",
              "#sk-container-id-1 div.sk-toggleable__content.fitted {\n",
              "  /* fitted */\n",
              "  background-color: var(--sklearn-color-fitted-level-0);\n",
              "}\n",
              "\n",
              "#sk-container-id-1 div.sk-toggleable__content pre {\n",
              "  margin: 0.2em;\n",
              "  border-radius: 0.25em;\n",
              "  color: var(--sklearn-color-text);\n",
              "  /* unfitted */\n",
              "  background-color: var(--sklearn-color-unfitted-level-0);\n",
              "}\n",
              "\n",
              "#sk-container-id-1 div.sk-toggleable__content.fitted pre {\n",
              "  /* unfitted */\n",
              "  background-color: var(--sklearn-color-fitted-level-0);\n",
              "}\n",
              "\n",
              "#sk-container-id-1 input.sk-toggleable__control:checked~div.sk-toggleable__content {\n",
              "  /* Expand drop-down */\n",
              "  max-height: 200px;\n",
              "  max-width: 100%;\n",
              "  overflow: auto;\n",
              "}\n",
              "\n",
              "#sk-container-id-1 input.sk-toggleable__control:checked~label.sk-toggleable__label-arrow:before {\n",
              "  content: \"▾\";\n",
              "}\n",
              "\n",
              "/* Pipeline/ColumnTransformer-specific style */\n",
              "\n",
              "#sk-container-id-1 div.sk-label input.sk-toggleable__control:checked~label.sk-toggleable__label {\n",
              "  color: var(--sklearn-color-text);\n",
              "  background-color: var(--sklearn-color-unfitted-level-2);\n",
              "}\n",
              "\n",
              "#sk-container-id-1 div.sk-label.fitted input.sk-toggleable__control:checked~label.sk-toggleable__label {\n",
              "  background-color: var(--sklearn-color-fitted-level-2);\n",
              "}\n",
              "\n",
              "/* Estimator-specific style */\n",
              "\n",
              "/* Colorize estimator box */\n",
              "#sk-container-id-1 div.sk-estimator input.sk-toggleable__control:checked~label.sk-toggleable__label {\n",
              "  /* unfitted */\n",
              "  background-color: var(--sklearn-color-unfitted-level-2);\n",
              "}\n",
              "\n",
              "#sk-container-id-1 div.sk-estimator.fitted input.sk-toggleable__control:checked~label.sk-toggleable__label {\n",
              "  /* fitted */\n",
              "  background-color: var(--sklearn-color-fitted-level-2);\n",
              "}\n",
              "\n",
              "#sk-container-id-1 div.sk-label label.sk-toggleable__label,\n",
              "#sk-container-id-1 div.sk-label label {\n",
              "  /* The background is the default theme color */\n",
              "  color: var(--sklearn-color-text-on-default-background);\n",
              "}\n",
              "\n",
              "/* On hover, darken the color of the background */\n",
              "#sk-container-id-1 div.sk-label:hover label.sk-toggleable__label {\n",
              "  color: var(--sklearn-color-text);\n",
              "  background-color: var(--sklearn-color-unfitted-level-2);\n",
              "}\n",
              "\n",
              "/* Label box, darken color on hover, fitted */\n",
              "#sk-container-id-1 div.sk-label.fitted:hover label.sk-toggleable__label.fitted {\n",
              "  color: var(--sklearn-color-text);\n",
              "  background-color: var(--sklearn-color-fitted-level-2);\n",
              "}\n",
              "\n",
              "/* Estimator label */\n",
              "\n",
              "#sk-container-id-1 div.sk-label label {\n",
              "  font-family: monospace;\n",
              "  font-weight: bold;\n",
              "  display: inline-block;\n",
              "  line-height: 1.2em;\n",
              "}\n",
              "\n",
              "#sk-container-id-1 div.sk-label-container {\n",
              "  text-align: center;\n",
              "}\n",
              "\n",
              "/* Estimator-specific */\n",
              "#sk-container-id-1 div.sk-estimator {\n",
              "  font-family: monospace;\n",
              "  border: 1px dotted var(--sklearn-color-border-box);\n",
              "  border-radius: 0.25em;\n",
              "  box-sizing: border-box;\n",
              "  margin-bottom: 0.5em;\n",
              "  /* unfitted */\n",
              "  background-color: var(--sklearn-color-unfitted-level-0);\n",
              "}\n",
              "\n",
              "#sk-container-id-1 div.sk-estimator.fitted {\n",
              "  /* fitted */\n",
              "  background-color: var(--sklearn-color-fitted-level-0);\n",
              "}\n",
              "\n",
              "/* on hover */\n",
              "#sk-container-id-1 div.sk-estimator:hover {\n",
              "  /* unfitted */\n",
              "  background-color: var(--sklearn-color-unfitted-level-2);\n",
              "}\n",
              "\n",
              "#sk-container-id-1 div.sk-estimator.fitted:hover {\n",
              "  /* fitted */\n",
              "  background-color: var(--sklearn-color-fitted-level-2);\n",
              "}\n",
              "\n",
              "/* Specification for estimator info (e.g. \"i\" and \"?\") */\n",
              "\n",
              "/* Common style for \"i\" and \"?\" */\n",
              "\n",
              ".sk-estimator-doc-link,\n",
              "a:link.sk-estimator-doc-link,\n",
              "a:visited.sk-estimator-doc-link {\n",
              "  float: right;\n",
              "  font-size: smaller;\n",
              "  line-height: 1em;\n",
              "  font-family: monospace;\n",
              "  background-color: var(--sklearn-color-background);\n",
              "  border-radius: 1em;\n",
              "  height: 1em;\n",
              "  width: 1em;\n",
              "  text-decoration: none !important;\n",
              "  margin-left: 0.5em;\n",
              "  text-align: center;\n",
              "  /* unfitted */\n",
              "  border: var(--sklearn-color-unfitted-level-1) 1pt solid;\n",
              "  color: var(--sklearn-color-unfitted-level-1);\n",
              "}\n",
              "\n",
              ".sk-estimator-doc-link.fitted,\n",
              "a:link.sk-estimator-doc-link.fitted,\n",
              "a:visited.sk-estimator-doc-link.fitted {\n",
              "  /* fitted */\n",
              "  border: var(--sklearn-color-fitted-level-1) 1pt solid;\n",
              "  color: var(--sklearn-color-fitted-level-1);\n",
              "}\n",
              "\n",
              "/* On hover */\n",
              "div.sk-estimator:hover .sk-estimator-doc-link:hover,\n",
              ".sk-estimator-doc-link:hover,\n",
              "div.sk-label-container:hover .sk-estimator-doc-link:hover,\n",
              ".sk-estimator-doc-link:hover {\n",
              "  /* unfitted */\n",
              "  background-color: var(--sklearn-color-unfitted-level-3);\n",
              "  color: var(--sklearn-color-background);\n",
              "  text-decoration: none;\n",
              "}\n",
              "\n",
              "div.sk-estimator.fitted:hover .sk-estimator-doc-link.fitted:hover,\n",
              ".sk-estimator-doc-link.fitted:hover,\n",
              "div.sk-label-container:hover .sk-estimator-doc-link.fitted:hover,\n",
              ".sk-estimator-doc-link.fitted:hover {\n",
              "  /* fitted */\n",
              "  background-color: var(--sklearn-color-fitted-level-3);\n",
              "  color: var(--sklearn-color-background);\n",
              "  text-decoration: none;\n",
              "}\n",
              "\n",
              "/* Span, style for the box shown on hovering the info icon */\n",
              ".sk-estimator-doc-link span {\n",
              "  display: none;\n",
              "  z-index: 9999;\n",
              "  position: relative;\n",
              "  font-weight: normal;\n",
              "  right: .2ex;\n",
              "  padding: .5ex;\n",
              "  margin: .5ex;\n",
              "  width: min-content;\n",
              "  min-width: 20ex;\n",
              "  max-width: 50ex;\n",
              "  color: var(--sklearn-color-text);\n",
              "  box-shadow: 2pt 2pt 4pt #999;\n",
              "  /* unfitted */\n",
              "  background: var(--sklearn-color-unfitted-level-0);\n",
              "  border: .5pt solid var(--sklearn-color-unfitted-level-3);\n",
              "}\n",
              "\n",
              ".sk-estimator-doc-link.fitted span {\n",
              "  /* fitted */\n",
              "  background: var(--sklearn-color-fitted-level-0);\n",
              "  border: var(--sklearn-color-fitted-level-3);\n",
              "}\n",
              "\n",
              ".sk-estimator-doc-link:hover span {\n",
              "  display: block;\n",
              "}\n",
              "\n",
              "/* \"?\"-specific style due to the `<a>` HTML tag */\n",
              "\n",
              "#sk-container-id-1 a.estimator_doc_link {\n",
              "  float: right;\n",
              "  font-size: 1rem;\n",
              "  line-height: 1em;\n",
              "  font-family: monospace;\n",
              "  background-color: var(--sklearn-color-background);\n",
              "  border-radius: 1rem;\n",
              "  height: 1rem;\n",
              "  width: 1rem;\n",
              "  text-decoration: none;\n",
              "  /* unfitted */\n",
              "  color: var(--sklearn-color-unfitted-level-1);\n",
              "  border: var(--sklearn-color-unfitted-level-1) 1pt solid;\n",
              "}\n",
              "\n",
              "#sk-container-id-1 a.estimator_doc_link.fitted {\n",
              "  /* fitted */\n",
              "  border: var(--sklearn-color-fitted-level-1) 1pt solid;\n",
              "  color: var(--sklearn-color-fitted-level-1);\n",
              "}\n",
              "\n",
              "/* On hover */\n",
              "#sk-container-id-1 a.estimator_doc_link:hover {\n",
              "  /* unfitted */\n",
              "  background-color: var(--sklearn-color-unfitted-level-3);\n",
              "  color: var(--sklearn-color-background);\n",
              "  text-decoration: none;\n",
              "}\n",
              "\n",
              "#sk-container-id-1 a.estimator_doc_link.fitted:hover {\n",
              "  /* fitted */\n",
              "  background-color: var(--sklearn-color-fitted-level-3);\n",
              "}\n",
              "</style><div id=\"sk-container-id-1\" class=\"sk-top-container\"><div class=\"sk-text-repr-fallback\"><pre>LinearRegression()</pre><b>In a Jupyter environment, please rerun this cell to show the HTML representation or trust the notebook. <br />On GitHub, the HTML representation is unable to render, please try loading this page with nbviewer.org.</b></div><div class=\"sk-container\" hidden><div class=\"sk-item\"><div class=\"sk-estimator fitted sk-toggleable\"><input class=\"sk-toggleable__control sk-hidden--visually\" id=\"sk-estimator-id-1\" type=\"checkbox\" checked><label for=\"sk-estimator-id-1\" class=\"sk-toggleable__label fitted sk-toggleable__label-arrow\"><div><div>LinearRegression</div></div><div><a class=\"sk-estimator-doc-link fitted\" rel=\"noreferrer\" target=\"_blank\" href=\"https://scikit-learn.org/1.6/modules/generated/sklearn.linear_model.LinearRegression.html\">?<span>Documentation for LinearRegression</span></a><span class=\"sk-estimator-doc-link fitted\">i<span>Fitted</span></span></div></label><div class=\"sk-toggleable__content fitted\"><pre>LinearRegression()</pre></div> </div></div></div></div>"
            ]
          },
          "metadata": {},
          "execution_count": 44
        }
      ]
    },
    {
      "cell_type": "code",
      "source": [
        "# Make predictions on the test set\n",
        "y_pred = model.predict(X_test)"
      ],
      "metadata": {
        "id": "jD5J8Qmu2veq"
      },
      "execution_count": null,
      "outputs": []
    },
    {
      "cell_type": "code",
      "source": [
        "from sklearn.metrics import mean_squared_error, r2_score\n",
        "import numpy as np\n",
        "\n",
        "# Calculate the Mean Squared Error (MSE)\n",
        "mse = mean_squared_error(y_test, y_pred)\n",
        "rmse = np.sqrt(mse)\n",
        "\n",
        "# Calculate the R-squared score\n",
        "r2 = r2_score(y_test, y_pred)\n",
        "\n",
        "print(f\"Mean Squared Error (MSE): {mse:.2f}\")\n",
        "print(f\"Root Mean Squared Error (RMSE): {rmse:.2f}\")\n",
        "print(f\"R-squared (R2) score: {r2:.2f}\")"
      ],
      "metadata": {
        "id": "Knm9sIAs2zdq",
        "colab": {
          "base_uri": "https://localhost:8080/"
        },
        "outputId": "3d35c2a7-2211-40ac-a439-4a7051911f2c"
      },
      "execution_count": null,
      "outputs": [
        {
          "output_type": "stream",
          "name": "stdout",
          "text": [
            "Mean Squared Error (MSE): 3.40\n",
            "Root Mean Squared Error (RMSE): 1.85\n",
            "R-squared (R2) score: 0.96\n"
          ]
        }
      ]
    },
    {
      "cell_type": "code",
      "source": [
        "import joblib\n",
        "\n",
        "# Save your trained model to a file\n",
        "joblib.dump(model, 'linear_regression_model.pkl')"
      ],
      "metadata": {
        "id": "sDq3CFSr390-",
        "colab": {
          "base_uri": "https://localhost:8080/"
        },
        "outputId": "525b8aa1-de38-4aff-badb-0d7cc8cf9c63"
      },
      "execution_count": null,
      "outputs": [
        {
          "data": {
            "text/plain": [
              "['linear_regression_model.pkl']"
            ]
          },
          "execution_count": 47,
          "metadata": {},
          "output_type": "execute_result"
        }
      ]
    },
    {
      "cell_type": "markdown",
      "source": [
        "Create the Fast API Application"
      ],
      "metadata": {
        "id": "Jz0znPnn4M2S"
      }
    },
    {
      "cell_type": "code",
      "source": [
        "from google.colab import drive\n",
        "import joblib\n",
        "\n",
        "# Mount Google Drive\n",
        "drive.mount('/content/drive')\n",
        "\n",
        "# Save your trained model to a file in Google Drive\n",
        "joblib.dump(model, '/content/drive/MyDrive/linear_regression_model.pkl')"
      ],
      "metadata": {
        "id": "GlRAxEcHDCPi",
        "colab": {
          "base_uri": "https://localhost:8080/",
          "height": 371
        },
        "outputId": "836f969d-3ddc-4057-a7f2-24c6c9d9d8f7"
      },
      "execution_count": null,
      "outputs": [
        {
          "output_type": "error",
          "ename": "KeyboardInterrupt",
          "evalue": "",
          "traceback": [
            "\u001b[0;31m---------------------------------------------------------------------------\u001b[0m",
            "\u001b[0;31mKeyboardInterrupt\u001b[0m                         Traceback (most recent call last)",
            "\u001b[0;32m/tmp/ipython-input-1440213550.py\u001b[0m in \u001b[0;36m<cell line: 0>\u001b[0;34m()\u001b[0m\n\u001b[1;32m      3\u001b[0m \u001b[0;34m\u001b[0m\u001b[0m\n\u001b[1;32m      4\u001b[0m \u001b[0;31m# Mount Google Drive\u001b[0m\u001b[0;34m\u001b[0m\u001b[0;34m\u001b[0m\u001b[0m\n\u001b[0;32m----> 5\u001b[0;31m \u001b[0mdrive\u001b[0m\u001b[0;34m.\u001b[0m\u001b[0mmount\u001b[0m\u001b[0;34m(\u001b[0m\u001b[0;34m'/content/drive'\u001b[0m\u001b[0;34m)\u001b[0m\u001b[0;34m\u001b[0m\u001b[0;34m\u001b[0m\u001b[0m\n\u001b[0m\u001b[1;32m      6\u001b[0m \u001b[0;34m\u001b[0m\u001b[0m\n\u001b[1;32m      7\u001b[0m \u001b[0;31m# Save your trained model to a file in Google Drive\u001b[0m\u001b[0;34m\u001b[0m\u001b[0;34m\u001b[0m\u001b[0m\n",
            "\u001b[0;32m/usr/local/lib/python3.11/dist-packages/google/colab/drive.py\u001b[0m in \u001b[0;36mmount\u001b[0;34m(mountpoint, force_remount, timeout_ms, readonly)\u001b[0m\n\u001b[1;32m     98\u001b[0m \u001b[0;32mdef\u001b[0m \u001b[0mmount\u001b[0m\u001b[0;34m(\u001b[0m\u001b[0mmountpoint\u001b[0m\u001b[0;34m,\u001b[0m \u001b[0mforce_remount\u001b[0m\u001b[0;34m=\u001b[0m\u001b[0;32mFalse\u001b[0m\u001b[0;34m,\u001b[0m \u001b[0mtimeout_ms\u001b[0m\u001b[0;34m=\u001b[0m\u001b[0;36m120000\u001b[0m\u001b[0;34m,\u001b[0m \u001b[0mreadonly\u001b[0m\u001b[0;34m=\u001b[0m\u001b[0;32mFalse\u001b[0m\u001b[0;34m)\u001b[0m\u001b[0;34m:\u001b[0m\u001b[0;34m\u001b[0m\u001b[0;34m\u001b[0m\u001b[0m\n\u001b[1;32m     99\u001b[0m   \u001b[0;34m\"\"\"Mount your Google Drive at the specified mountpoint path.\"\"\"\u001b[0m\u001b[0;34m\u001b[0m\u001b[0;34m\u001b[0m\u001b[0m\n\u001b[0;32m--> 100\u001b[0;31m   return _mount(\n\u001b[0m\u001b[1;32m    101\u001b[0m       \u001b[0mmountpoint\u001b[0m\u001b[0;34m,\u001b[0m\u001b[0;34m\u001b[0m\u001b[0;34m\u001b[0m\u001b[0m\n\u001b[1;32m    102\u001b[0m       \u001b[0mforce_remount\u001b[0m\u001b[0;34m=\u001b[0m\u001b[0mforce_remount\u001b[0m\u001b[0;34m,\u001b[0m\u001b[0;34m\u001b[0m\u001b[0;34m\u001b[0m\u001b[0m\n",
            "\u001b[0;32m/usr/local/lib/python3.11/dist-packages/google/colab/drive.py\u001b[0m in \u001b[0;36m_mount\u001b[0;34m(mountpoint, force_remount, timeout_ms, ephemeral, readonly)\u001b[0m\n\u001b[1;32m    135\u001b[0m   )\n\u001b[1;32m    136\u001b[0m   \u001b[0;32mif\u001b[0m \u001b[0mephemeral\u001b[0m\u001b[0;34m:\u001b[0m\u001b[0;34m\u001b[0m\u001b[0;34m\u001b[0m\u001b[0m\n\u001b[0;32m--> 137\u001b[0;31m     _message.blocking_request(\n\u001b[0m\u001b[1;32m    138\u001b[0m         \u001b[0;34m'request_auth'\u001b[0m\u001b[0;34m,\u001b[0m\u001b[0;34m\u001b[0m\u001b[0;34m\u001b[0m\u001b[0m\n\u001b[1;32m    139\u001b[0m         \u001b[0mrequest\u001b[0m\u001b[0;34m=\u001b[0m\u001b[0;34m{\u001b[0m\u001b[0;34m'authType'\u001b[0m\u001b[0;34m:\u001b[0m \u001b[0;34m'dfs_ephemeral'\u001b[0m\u001b[0;34m}\u001b[0m\u001b[0;34m,\u001b[0m\u001b[0;34m\u001b[0m\u001b[0;34m\u001b[0m\u001b[0m\n",
            "\u001b[0;32m/usr/local/lib/python3.11/dist-packages/google/colab/_message.py\u001b[0m in \u001b[0;36mblocking_request\u001b[0;34m(request_type, request, timeout_sec, parent)\u001b[0m\n\u001b[1;32m    174\u001b[0m       \u001b[0mrequest_type\u001b[0m\u001b[0;34m,\u001b[0m \u001b[0mrequest\u001b[0m\u001b[0;34m,\u001b[0m \u001b[0mparent\u001b[0m\u001b[0;34m=\u001b[0m\u001b[0mparent\u001b[0m\u001b[0;34m,\u001b[0m \u001b[0mexpect_reply\u001b[0m\u001b[0;34m=\u001b[0m\u001b[0;32mTrue\u001b[0m\u001b[0;34m\u001b[0m\u001b[0;34m\u001b[0m\u001b[0m\n\u001b[1;32m    175\u001b[0m   )\n\u001b[0;32m--> 176\u001b[0;31m   \u001b[0;32mreturn\u001b[0m \u001b[0mread_reply_from_input\u001b[0m\u001b[0;34m(\u001b[0m\u001b[0mrequest_id\u001b[0m\u001b[0;34m,\u001b[0m \u001b[0mtimeout_sec\u001b[0m\u001b[0;34m)\u001b[0m\u001b[0;34m\u001b[0m\u001b[0;34m\u001b[0m\u001b[0m\n\u001b[0m",
            "\u001b[0;32m/usr/local/lib/python3.11/dist-packages/google/colab/_message.py\u001b[0m in \u001b[0;36mread_reply_from_input\u001b[0;34m(message_id, timeout_sec)\u001b[0m\n\u001b[1;32m     94\u001b[0m     \u001b[0mreply\u001b[0m \u001b[0;34m=\u001b[0m \u001b[0m_read_next_input_message\u001b[0m\u001b[0;34m(\u001b[0m\u001b[0;34m)\u001b[0m\u001b[0;34m\u001b[0m\u001b[0;34m\u001b[0m\u001b[0m\n\u001b[1;32m     95\u001b[0m     \u001b[0;32mif\u001b[0m \u001b[0mreply\u001b[0m \u001b[0;34m==\u001b[0m \u001b[0m_NOT_READY\u001b[0m \u001b[0;32mor\u001b[0m \u001b[0;32mnot\u001b[0m \u001b[0misinstance\u001b[0m\u001b[0;34m(\u001b[0m\u001b[0mreply\u001b[0m\u001b[0;34m,\u001b[0m \u001b[0mdict\u001b[0m\u001b[0;34m)\u001b[0m\u001b[0;34m:\u001b[0m\u001b[0;34m\u001b[0m\u001b[0;34m\u001b[0m\u001b[0m\n\u001b[0;32m---> 96\u001b[0;31m       \u001b[0mtime\u001b[0m\u001b[0;34m.\u001b[0m\u001b[0msleep\u001b[0m\u001b[0;34m(\u001b[0m\u001b[0;36m0.025\u001b[0m\u001b[0;34m)\u001b[0m\u001b[0;34m\u001b[0m\u001b[0;34m\u001b[0m\u001b[0m\n\u001b[0m\u001b[1;32m     97\u001b[0m       \u001b[0;32mcontinue\u001b[0m\u001b[0;34m\u001b[0m\u001b[0;34m\u001b[0m\u001b[0m\n\u001b[1;32m     98\u001b[0m     if (\n",
            "\u001b[0;31mKeyboardInterrupt\u001b[0m: "
          ]
        }
      ]
    },
    {
      "cell_type": "code",
      "source": [
        "!pip install fastapi uvicorn python-multipart pyngrok"
      ],
      "metadata": {
        "id": "ckvmwEPmHWRi"
      },
      "execution_count": null,
      "outputs": []
    },
    {
      "cell_type": "code",
      "source": [
        "from pyngrok import ngrok\n",
        "ngrok.set_auth_token(\"30mGtPmoCmssIMNKLyYPMSMiGBj_3dSTsvzkgyFFMYShGgooh\")"
      ],
      "metadata": {
        "id": "v533cBV1Bs2q"
      },
      "execution_count": null,
      "outputs": []
    },
    {
      "cell_type": "code",
      "source": [
        "%%writefile /content/drive/MyDrive/main.py\n",
        "\n",
        "from fastapi import FastAPI\n",
        "import joblib\n",
        "import pandas as pd\n",
        "\n",
        "# Load the trained model from Google Drive\n",
        "model = joblib.load('/content/drive/MyDrive/linear_regression_model.pkl')\n",
        "\n",
        "# Initialize the FastAPI app\n",
        "app = FastAPI()\n",
        "\n",
        "# Create a route to make predictions\n",
        "@app.post(\"/predict\")\n",
        "def predict_life_expectancy(data: dict):\n",
        "    # Convert the input data to a Pandas DataFrame\n",
        "    input_df = pd.DataFrame([data])\n",
        "\n",
        "    # Make a prediction using the loaded model\n",
        "    prediction = model.predict(input_df)\n",
        "\n",
        "    # Return the prediction\n",
        "    return {\"predicted_life_expectancy\": prediction.tolist()}"
      ],
      "metadata": {
        "id": "ahD6U0f1HlVL"
      },
      "execution_count": null,
      "outputs": []
    },
    {
      "cell_type": "code",
      "source": [
        "from pyngrok import ngrok\n",
        "import subprocess\n",
        "import time\n",
        "\n",
        "# Kill any existing ngrok tunnels\n",
        "ngrok.kill()\n",
        "\n",
        "# Run FastAPI with Uvicorn on a specific port\n",
        "print(\"Starting Uvicorn server...\")\n",
        "process = subprocess.Popen(['uvicorn', 'main:app', '--host', '0.0.0.0', '--port', '8000'])\n",
        "\n",
        "# Wait a moment for the server to start\n",
        "time.sleep(5)\n",
        "\n",
        "# Connect ngrok to the Uvicorn server\n",
        "public_url = ngrok.connect(8000)\n",
        "print(f\"Your public URL is: {public_url}\")"
      ],
      "metadata": {
        "id": "dUNaQnLGHp0i"
      },
      "execution_count": null,
      "outputs": []
    },
    {
      "cell_type": "code",
      "source": [
        "import threading\n",
        "import uvicorn\n",
        "from pyngrok import ngrok\n",
        "\n",
        "# Kill any existing ngrok tunnels\n",
        "ngrok.kill()\n",
        "\n",
        "# Define a function to run the FastAPI app\n",
        "def run_uvicorn():\n",
        "    uvicorn.run(\"main:app\", host=\"0.0.0.0\", port=8000, log_level=\"info\")\n",
        "\n",
        "# Run the FastAPI app in a separate thread\n",
        "thread = threading.Thread(target=run_uvicorn, daemon=True)\n",
        "thread.start()\n",
        "print(\"FastAPI server is running...\")\n",
        "\n",
        "# Connect ngrok to the FastAPI server\n",
        "public_url = ngrok.connect(8000).public_url\n",
        "print(f\"Your public URL is: {public_url}\")"
      ],
      "metadata": {
        "id": "_loRy_qkJK-c"
      },
      "execution_count": null,
      "outputs": []
    },
    {
      "cell_type": "code",
      "source": [
        "import os\n",
        "import threading\n",
        "import uvicorn\n",
        "from pyngrok import ngrok\n",
        "import time\n",
        "\n",
        "# Kill any existing ngrok tunnels\n",
        "ngrok.kill()\n",
        "\n",
        "# Change the current directory to your Google Drive folder\n",
        "os.chdir(\"/content/drive/MyDrive\")\n",
        "\n",
        "# Define a function to run the FastAPI app\n",
        "def run_uvicorn():\n",
        "    uvicorn.run(\"main:app\", host=\"0.0.0.0\", port=8000, log_level=\"info\")\n",
        "\n",
        "# Run the FastAPI app in a separate thread\n",
        "thread = threading.Thread(target=run_uvicorn, daemon=True)\n",
        "thread.start()\n",
        "print(\"FastAPI server is running...\")\n",
        "\n",
        "# Wait a moment for the server to start\n",
        "time.sleep(5)\n",
        "\n",
        "# Connect ngrok to the FastAPI server\n",
        "public_url = ngrok.connect(8000).public_url\n",
        "print(f\"Your public URL is: {public_url}\")"
      ],
      "metadata": {
        "id": "1PNLko5RJXxS"
      },
      "execution_count": null,
      "outputs": []
    },
    {
      "cell_type": "code",
      "source": [
        "from pyngrok import ngrok\n",
        "ngrok.kill()"
      ],
      "metadata": {
        "id": "FrtjfqwGg0Xq"
      },
      "execution_count": null,
      "outputs": []
    },
    {
      "cell_type": "code",
      "source": [
        "print(X_train.columns.tolist())"
      ],
      "metadata": {
        "id": "y7Kq6bI_MYJV"
      },
      "execution_count": null,
      "outputs": []
    },
    {
      "cell_type": "code",
      "metadata": {
        "id": "4yQW6DgltGM3"
      },
      "source": [],
      "execution_count": null,
      "outputs": []
    }
  ],
  "metadata": {
    "colab": {
      "provenance": []
    },
    "kernelspec": {
      "display_name": "Python 3",
      "name": "python3"
    }
  },
  "nbformat": 4,
  "nbformat_minor": 0
}